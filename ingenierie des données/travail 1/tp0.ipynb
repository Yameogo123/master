{
 "cells": [
  {
   "cell_type": "code",
   "execution_count": 1,
   "metadata": {},
   "outputs": [],
   "source": [
    "import pandas as pd \n",
    "import numpy as np\n",
    "from sklearn.feature_selection import VarianceThreshold\n",
    "from numpy.random import seed, randn\n",
    "from numpy import mean, std, percentile, nan, isnan\n",
    "from sklearn.impute import SimpleImputer\n"
   ]
  },
  {
   "cell_type": "code",
   "execution_count": 2,
   "metadata": {},
   "outputs": [
    {
     "name": "stdout",
     "output_type": "stream",
     "text": [
      "avant suppression des données on a:\n",
      "(149, 5)\n",
      "les doublons\n",
      "     5.1  3.5  1.4  0.2     Iris-setosa\n",
      "33   4.9  3.1  1.5  0.1     Iris-setosa\n",
      "36   4.9  3.1  1.5  0.1     Iris-setosa\n",
      "141  5.8  2.7  5.1  1.9  Iris-virginica\n",
      "apres suppression des données on a:\n",
      "(146, 5)\n"
     ]
    }
   ],
   "source": [
    "df= pd.read_csv(\"iris.csv\")\n",
    "print(\"avant suppression des données on a:\")\n",
    "print(df.shape)\n",
    "#les doublons\n",
    "dups = df.duplicated()\n",
    "\n",
    "#affichage des doublons\n",
    "print(\"les doublons\")\n",
    "print(df[dups])\n",
    "\n",
    "#suppression des doublons\n",
    "df.drop_duplicates(inplace=True)\n",
    "print(\"apres suppression des données on a:\")\n",
    "print(df.shape)"
   ]
  },
  {
   "cell_type": "code",
   "execution_count": 3,
   "metadata": {},
   "outputs": [
    {
     "name": "stdout",
     "output_type": "stream",
     "text": [
      "146\n",
      "[[4.9 3.0 1.4 0.2]\n",
      " [4.7 3.2 1.3 0.2]\n",
      " [4.6 3.1 1.5 0.2]\n",
      " [5.0 3.6 1.4 0.2]\n",
      " [5.4 3.9 1.7 0.4]\n",
      " [4.6 3.4 1.4 0.3]\n",
      " [5.0 3.4 1.5 0.2]\n",
      " [4.4 2.9 1.4 0.2]\n",
      " [4.9 3.1 1.5 0.1]\n",
      " [5.4 3.7 1.5 0.2]\n",
      " [4.8 3.4 1.6 0.2]\n",
      " [4.8 3.0 1.4 0.1]\n",
      " [4.3 3.0 1.1 0.1]\n",
      " [5.8 4.0 1.2 0.2]\n",
      " [5.7 4.4 1.5 0.4]\n",
      " [5.4 3.9 1.3 0.4]\n",
      " [5.1 3.5 1.4 0.3]\n",
      " [5.7 3.8 1.7 0.3]\n",
      " [5.1 3.8 1.5 0.3]\n",
      " [5.4 3.4 1.7 0.2]\n",
      " [5.1 3.7 1.5 0.4]\n",
      " [4.6 3.6 1.0 0.2]\n",
      " [5.1 3.3 1.7 0.5]\n",
      " [4.8 3.4 1.9 0.2]\n",
      " [5.0 3.0 1.6 0.2]\n",
      " [5.0 3.4 1.6 0.4]\n",
      " [5.2 3.5 1.5 0.2]\n",
      " [5.2 3.4 1.4 0.2]\n",
      " [4.7 3.2 1.6 0.2]\n",
      " [4.8 3.1 1.6 0.2]\n",
      " [5.4 3.4 1.5 0.4]\n",
      " [5.2 4.1 1.5 0.1]\n",
      " [5.5 4.2 1.4 0.2]\n",
      " [5.0 3.2 1.2 0.2]\n",
      " [5.5 3.5 1.3 0.2]\n",
      " [4.4 3.0 1.3 0.2]\n",
      " [5.1 3.4 1.5 0.2]\n",
      " [5.0 3.5 1.3 0.3]\n",
      " [4.5 2.3 1.3 0.3]\n",
      " [4.4 3.2 1.3 0.2]\n",
      " [5.0 3.5 1.6 0.6]\n",
      " [5.1 3.8 1.9 0.4]\n",
      " [4.8 3.0 1.4 0.3]\n",
      " [5.1 3.8 1.6 0.2]\n",
      " [4.6 3.2 1.4 0.2]\n",
      " [5.3 3.7 1.5 0.2]\n",
      " [5.0 3.3 1.4 0.2]\n",
      " [7.0 3.2 4.7 1.4]\n",
      " [6.4 3.2 4.5 1.5]\n",
      " [6.9 3.1 4.9 1.5]\n",
      " [5.5 2.3 4.0 1.3]\n",
      " [6.5 2.8 4.6 1.5]\n",
      " [5.7 2.8 4.5 1.3]\n",
      " [6.3 3.3 4.7 1.6]\n",
      " [4.9 2.4 3.3 1.0]\n",
      " [6.6 2.9 4.6 1.3]\n",
      " [5.2 2.7 3.9 1.4]\n",
      " [5.0 2.0 3.5 1.0]\n",
      " [5.9 3.0 4.2 1.5]\n",
      " [6.0 2.2 4.0 1.0]\n",
      " [6.1 2.9 4.7 1.4]\n",
      " [5.6 2.9 3.6 1.3]\n",
      " [6.7 3.1 4.4 1.4]\n",
      " [5.6 3.0 4.5 1.5]\n",
      " [5.8 2.7 4.1 1.0]\n",
      " [6.2 2.2 4.5 1.5]\n",
      " [5.6 2.5 3.9 1.1]\n",
      " [5.9 3.2 4.8 1.8]\n",
      " [6.1 2.8 4.0 1.3]\n",
      " [6.3 2.5 4.9 1.5]\n",
      " [6.1 2.8 4.7 1.2]\n",
      " [6.4 2.9 4.3 1.3]\n",
      " [6.6 3.0 4.4 1.4]\n",
      " [6.8 2.8 4.8 1.4]\n",
      " [6.7 3.0 5.0 1.7]\n",
      " [6.0 2.9 4.5 1.5]\n",
      " [5.7 2.6 3.5 1.0]\n",
      " [5.5 2.4 3.8 1.1]\n",
      " [5.5 2.4 3.7 1.0]\n",
      " [5.8 2.7 3.9 1.2]\n",
      " [6.0 2.7 5.1 1.6]\n",
      " [5.4 3.0 4.5 1.5]\n",
      " [6.0 3.4 4.5 1.6]\n",
      " [6.7 3.1 4.7 1.5]\n",
      " [6.3 2.3 4.4 1.3]\n",
      " [5.6 3.0 4.1 1.3]\n",
      " [5.5 2.5 4.0 1.3]\n",
      " [5.5 2.6 4.4 1.2]\n",
      " [6.1 3.0 4.6 1.4]\n",
      " [5.8 2.6 4.0 1.2]\n",
      " [5.0 2.3 3.3 1.0]\n",
      " [5.6 2.7 4.2 1.3]\n",
      " [5.7 3.0 4.2 1.2]\n",
      " [5.7 2.9 4.2 1.3]\n",
      " [6.2 2.9 4.3 1.3]\n",
      " [5.1 2.5 3.0 1.1]\n",
      " [5.7 2.8 4.1 1.3]\n",
      " [6.3 3.3 6.0 2.5]\n",
      " [5.8 2.7 5.1 1.9]\n",
      " [7.1 3.0 5.9 2.1]\n",
      " [6.3 2.9 5.6 1.8]\n",
      " [6.5 3.0 5.8 2.2]\n",
      " [7.6 3.0 6.6 2.1]\n",
      " [4.9 2.5 4.5 1.7]\n",
      " [7.3 2.9 6.3 1.8]\n",
      " [6.7 2.5 5.8 1.8]\n",
      " [7.2 3.6 6.1 2.5]\n",
      " [6.5 3.2 5.1 2.0]\n",
      " [6.4 2.7 5.3 1.9]\n",
      " [6.8 3.0 5.5 2.1]\n",
      " [5.7 2.5 5.0 2.0]\n",
      " [5.8 2.8 5.1 2.4]\n",
      " [6.4 3.2 5.3 2.3]\n",
      " [6.5 3.0 5.5 1.8]\n",
      " [7.7 3.8 6.7 2.2]\n",
      " [7.7 2.6 6.9 2.3]\n",
      " [6.0 2.2 5.0 1.5]\n",
      " [6.9 3.2 5.7 2.3]\n",
      " [5.6 2.8 4.9 2.0]\n",
      " [7.7 2.8 6.7 2.0]\n",
      " [6.3 2.7 4.9 1.8]\n",
      " [6.7 3.3 5.7 2.1]\n",
      " [7.2 3.2 6.0 1.8]\n",
      " [6.2 2.8 4.8 1.8]\n",
      " [6.1 3.0 4.9 1.8]\n",
      " [6.4 2.8 5.6 2.1]\n",
      " [7.2 3.0 5.8 1.6]\n",
      " [7.4 2.8 6.1 1.9]\n",
      " [7.9 3.8 6.4 2.0]\n",
      " [6.4 2.8 5.6 2.2]\n",
      " [6.3 2.8 5.1 1.5]\n",
      " [6.1 2.6 5.6 1.4]\n",
      " [7.7 3.0 6.1 2.3]\n",
      " [6.3 3.4 5.6 2.4]\n",
      " [6.4 3.1 5.5 1.8]\n",
      " [6.0 3.0 4.8 1.8]\n",
      " [6.9 3.1 5.4 2.1]\n",
      " [6.7 3.1 5.6 2.4]\n",
      " [6.9 3.1 5.1 2.3]\n",
      " [6.8 3.2 5.9 2.3]\n",
      " [6.7 3.3 5.7 2.5]\n",
      " [6.7 3.0 5.2 2.3]\n",
      " [6.3 2.5 5.0 1.9]\n",
      " [6.5 3.0 5.2 2.0]\n",
      " [6.2 3.4 5.4 2.3]\n",
      " [5.9 3.0 5.1 1.8]]\n"
     ]
    }
   ],
   "source": [
    "### 2\n",
    "\n",
    "df2= pd.read_csv(\"oil-spill.csv\")\n",
    "data= df.values\n",
    "\n",
    "x, y= data[:, :-1], data[:,-1]\n",
    "transform= VarianceThreshold()\n",
    "x_sel= transform.fit_transform(x)\n",
    "\n",
    "#par défaut la variance est null\n",
    "print(len(x_sel))\n",
    "print(x)"
   ]
  },
  {
   "cell_type": "code",
   "execution_count": 19,
   "metadata": {},
   "outputs": [
    {
     "name": "stdout",
     "output_type": "stream",
     "text": [
      "total des outliers\n",
      "34\n"
     ]
    },
    {
     "data": {
      "text/plain": [
       "9966"
      ]
     },
     "execution_count": 19,
     "metadata": {},
     "output_type": "execute_result"
    }
   ],
   "source": [
    "# 3\n",
    "seed(2)\n",
    "\n",
    "dt= 50 + 5*randn(10000)\n",
    "moy, ecart= mean(dt), std(dt)\n",
    "\n",
    "lower, upper= moy-3*ecart, moy+3*ecart\n",
    "outliers=np.array([out for out in dt if out<lower or out>upper])\n",
    "print(\"total des outliers\")\n",
    "print(len(outliers))\n",
    "\n",
    "outliers_removed= [el for el in dt if el not in outliers]"
   ]
  },
  {
   "cell_type": "code",
   "execution_count": 23,
   "metadata": {},
   "outputs": [
    {
     "data": {
      "text/plain": [
       "9966"
      ]
     },
     "execution_count": 23,
     "metadata": {},
     "output_type": "execute_result"
    }
   ],
   "source": [
    "#question 4\n",
    "q25= percentile(dt, 25)\n",
    "q75= percentile(dt, 75)\n",
    "iqr=q75-q25\n",
    "cutt_off= 1.5 * iqr\n",
    "low, up= q25-cutt_off, q75+cutt_off\n",
    "out_removed= [val for val in dt if val>lower and val<upper]\n",
    "len(out_removed)"
   ]
  },
  {
   "cell_type": "code",
   "execution_count": 57,
   "metadata": {},
   "outputs": [
    {
     "name": "stdout",
     "output_type": "stream",
     "text": [
      "taille avant suppression:  (768, 9)\n",
      "taille après suppression:  (111, 9)\n"
     ]
    }
   ],
   "source": [
    "#question 5\n",
    "dataset= pd.read_csv(\"pima-indians-diabetes.csv\", header=None)\n",
    "dataset.replace(0., nan, inplace=True)\n",
    "print(\"taille avant suppression: \", dataset.shape)\n",
    "dataset.dropna(inplace=True)\n",
    "print(\"taille après suppression: \", dataset.shape)\n"
   ]
  },
  {
   "cell_type": "code",
   "execution_count": 65,
   "metadata": {},
   "outputs": [
    {
     "name": "stdout",
     "output_type": "stream",
     "text": [
      "total nan of column  0\n",
      "1\n",
      "total nan of column  1\n",
      "0\n",
      "total nan of column  2\n",
      "0\n",
      "total nan of column  3\n",
      "60\n",
      "total nan of column  4\n",
      "24\n",
      "total nan of column  5\n",
      "58\n",
      "total nan of column  6\n",
      "56\n",
      "total nan of column  7\n",
      "69\n",
      "total nan of column  8\n",
      "47\n",
      "total nan of column  9\n",
      "32\n",
      "total nan of column  10\n",
      "55\n",
      "total nan of column  11\n",
      "44\n",
      "total nan of column  12\n",
      "56\n",
      "total nan of column  13\n",
      "104\n",
      "total nan of column  14\n",
      "106\n",
      "total nan of column  15\n",
      "247\n",
      "total nan of column  16\n",
      "102\n",
      "total nan of column  17\n",
      "118\n",
      "total nan of column  18\n",
      "29\n",
      "total nan of column  19\n",
      "33\n",
      "total nan of column  20\n",
      "165\n",
      "total nan of column  21\n",
      "198\n",
      "total nan of column  22\n",
      "1\n",
      "total nan of column  23\n",
      "0\n",
      "total nan of column  24\n",
      "0\n",
      "total nan of column  25\n",
      "0\n",
      "total nan of column  26\n",
      "0\n",
      "total nan of column  27\n",
      "0\n"
     ]
    }
   ],
   "source": [
    "#question 6\n",
    "dataframe= pd.read_csv(\"horse-colic.csv\", header=None, na_values=\"?\")\n",
    "for i in range(dataframe.shape[1]):\n",
    "    print(\"total de nan de la colonne \",i)\n",
    "    print(dataframe[i].isna().sum())"
   ]
  },
  {
   "cell_type": "code",
   "execution_count": 78,
   "metadata": {},
   "outputs": [],
   "source": [
    "dt_frame= dataframe.values\n",
    "x= dt_frame[:, [i for i in range(28) if i!= 23]]\n",
    "y= dt_frame[:, 23]\n",
    "imputer= SimpleImputer(strategy=\"mean\")\n",
    "imputer.fit(x)\n",
    "xtrans= imputer.transform(x)\n",
    "\n",
    "naX=isnan(x).sum()\n",
    "naXtrans= isnan(xtrans).sum()\n"
   ]
  }
 ],
 "metadata": {
  "kernelspec": {
   "display_name": "Python 3.10.5 64-bit",
   "language": "python",
   "name": "python3"
  },
  "language_info": {
   "codemirror_mode": {
    "name": "ipython",
    "version": 3
   },
   "file_extension": ".py",
   "mimetype": "text/x-python",
   "name": "python",
   "nbconvert_exporter": "python",
   "pygments_lexer": "ipython3",
   "version": "3.10.5"
  },
  "orig_nbformat": 4,
  "vscode": {
   "interpreter": {
    "hash": "369f2c481f4da34e4445cda3fffd2e751bd1c4d706f27375911949ba6bb62e1c"
   }
  }
 },
 "nbformat": 4,
 "nbformat_minor": 2
}
